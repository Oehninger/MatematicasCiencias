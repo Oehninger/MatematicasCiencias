{
  "nbformat": 4,
  "nbformat_minor": 0,
  "metadata": {
    "colab": {
      "provenance": [],
      "authorship_tag": "ABX9TyOiZmCK6dw+FJdAudJM+JMB",
      "include_colab_link": true
    },
    "kernelspec": {
      "name": "python3",
      "display_name": "Python 3"
    },
    "language_info": {
      "name": "python"
    }
  },
  "cells": [
    {
      "cell_type": "markdown",
      "metadata": {
        "id": "view-in-github",
        "colab_type": "text"
      },
      "source": [
        "<a href=\"https://colab.research.google.com/github/Oehninger/MatematicasCiencias/blob/main/Modelo_Log%C3%ADstico.ipynb\" target=\"_parent\"><img src=\"https://colab.research.google.com/assets/colab-badge.svg\" alt=\"Open In Colab\"/></a>"
      ]
    },
    {
      "cell_type": "markdown",
      "source": [
        "# Ejemplo 1: Modelo Logístico\n",
        "\n",
        "La ecuación diferencial logística es de la forma:\n",
        "$$\n",
        "\\dot{x}=rx\\left(1-\\frac{x}{K}\\right)\n",
        "$$\n",
        "donde $r$ y $K$ son constantes positivas.  Resolveremos numericamente esta ecuación usando odeint.\n",
        "\n",
        "Implementamos esta ecuación en Python como sigue:"
      ],
      "metadata": {
        "id": "yPyzbehtW7tM"
      }
    },
    {
      "cell_type": "code",
      "source": [
        "import numpy as np\n",
        "def grad(x, t, r, K):\n",
        "    x = x\n",
        "    dxdt = r*x*(1-x/K)\n",
        "    return dxdt"
      ],
      "metadata": {
        "id": "Z6BwABP-W_JO"
      },
      "execution_count": null,
      "outputs": []
    },
    {
      "cell_type": "markdown",
      "source": [
        "Asumimos que los parámetros son  $r=0.5$ y $K=10$:"
      ],
      "metadata": {
        "id": "GYPFPcnwXFZ1"
      }
    },
    {
      "cell_type": "code",
      "source": [
        "r=0.5\n",
        "K=10"
      ],
      "metadata": {
        "id": "0zYMkuhxXLLR"
      },
      "execution_count": null,
      "outputs": []
    },
    {
      "cell_type": "markdown",
      "source": [
        "Consideramos una población inicial  $x(0)=1$"
      ],
      "metadata": {
        "id": "h_iGxLqbXOEV"
      }
    },
    {
      "cell_type": "code",
      "source": [
        "x0=1"
      ],
      "metadata": {
        "id": "ZdvQT8FIXTNm"
      },
      "execution_count": null,
      "outputs": []
    },
    {
      "cell_type": "markdown",
      "source": [
        "Generaremos una solución sobre el intervalo $[0,10]$ con una partición de 101 puntos. Lo que se define por:"
      ],
      "metadata": {
        "id": "9QpPEP1AXWwz"
      }
    },
    {
      "cell_type": "code",
      "source": [
        "t=np.linspace(0,10,101)"
      ],
      "metadata": {
        "id": "-ilOWsuyXbUP"
      },
      "execution_count": null,
      "outputs": []
    },
    {
      "cell_type": "markdown",
      "source": [
        "Ya se han definido todos los aspectos necesarios para buscar una solución de la ecuación diferencial. Ahora debemos recurrir al comando ODEINT para generar la solución. Para que la función grad considere los parámetros $r$ y $K$, se los ingresamos usando args."
      ],
      "metadata": {
        "id": "MoCPuePYXjD7"
      }
    },
    {
      "cell_type": "code",
      "source": [
        "from scipy.integrate import odeint\n",
        "sol=odeint(grad, x0, t, args=(r,K))"
      ],
      "metadata": {
        "id": "5H86xoooXmbz"
      },
      "execution_count": null,
      "outputs": []
    },
    {
      "cell_type": "markdown",
      "source": [
        "La solución es un arreglo de tamaño (101,1). El siguiente código permite graficar la solución:"
      ],
      "metadata": {
        "id": "lorXXU7uXpIu"
      }
    },
    {
      "cell_type": "code",
      "source": [
        "import matplotlib.pyplot as plt\n",
        "plt.plot(t, sol, 'b', label='x(t)')\n",
        "plt.legend(loc='best')\n",
        "plt.xlabel('t')\n",
        "plt.grid()\n",
        "plt.show()"
      ],
      "metadata": {
        "id": "wGZ-le5LXt0m"
      },
      "execution_count": null,
      "outputs": []
    }
  ]
}